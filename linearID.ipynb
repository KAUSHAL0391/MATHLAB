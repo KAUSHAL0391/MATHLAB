{
 "cells": [
  {
   "cell_type": "code",
   "execution_count": 3,
   "metadata": {},
   "outputs": [
    {
     "name": "stdout",
     "output_type": "stream",
     "text": [
      "Given vectors are linearly independent\n"
     ]
    }
   ],
   "source": [
    "import numpy as np\n",
    "\n",
    "A = np.array([[-1, 2, 3, 1], [3, 4, 6, 1], [2, -1, 4, 1]]).T\n",
    "\n",
    "# Check if the vectors are linearly independent by computing the rank of A\n",
    "rank = np.linalg.matrix_rank(A)\n",
    "\n",
    "# If the rank is equal to the number of columns, then the vectors are linearly independent\n",
    "if rank == A.shape[1]:\n",
    "  print('Given vectors are linearly independent')\n",
    "else:\n",
    "  print('Given vectors are linearly dependent')"
   ]
  }
 ],
 "metadata": {
  "kernelspec": {
   "display_name": "Python 3",
   "language": "python",
   "name": "python3"
  },
  "language_info": {
   "codemirror_mode": {
    "name": "ipython",
    "version": 3
   },
   "file_extension": ".py",
   "mimetype": "text/x-python",
   "name": "python",
   "nbconvert_exporter": "python",
   "pygments_lexer": "ipython3",
   "version": "3.11.2"
  },
  "orig_nbformat": 4
 },
 "nbformat": 4,
 "nbformat_minor": 2
}
