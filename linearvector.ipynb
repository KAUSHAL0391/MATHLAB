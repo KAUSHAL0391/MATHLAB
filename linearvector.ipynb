{
 "cells": [
  {
   "cell_type": "code",
   "execution_count": 2,
   "metadata": {},
   "outputs": [
    {
     "name": "stdout",
     "output_type": "stream",
     "text": [
      "[3. 4. 1.]\n",
      "v= [3.] * v1 + [-1.]  * v2 + [2.]  * v3\n"
     ]
    }
   ],
   "source": [
    "import numpy as np\n",
    "v = [3, 4, 1]\n",
    "v1 = [1, 2, 0]\n",
    "v2 = [2, 4, 1]\n",
    "v3 = [1, 1, 1]\n",
    "A = np.matrix([v1, v2, v3]).T\n",
    "[m,n]=np.shape(A)\n",
    "r=np.linalg.matrix_rank(A)\n",
    "b = np.array(v).reshape(-1, 1)\n",
    "if r==n:\n",
    "    coefficients = np.linalg.solve(A, b)\n",
    "    linear_combination = (coefficients[0] * v1 + coefficients[1] * v2 + coefficients[2] * v3)\n",
    "    print(linear_combination)\n",
    "    print('v=',coefficients[0],'* v1 +', coefficients[1],' * v2 +', coefficients[2],' * v3')\n",
    "else:\n",
    "    print(\"It is not possible to express v as linear combination of given vectors\")\n"
   ]
  }
 ],
 "metadata": {
  "kernelspec": {
   "display_name": "Python 3",
   "language": "python",
   "name": "python3"
  },
  "language_info": {
   "codemirror_mode": {
    "name": "ipython",
    "version": 3
   },
   "file_extension": ".py",
   "mimetype": "text/x-python",
   "name": "python",
   "nbconvert_exporter": "python",
   "pygments_lexer": "ipython3",
   "version": "3.11.2"
  },
  "orig_nbformat": 4
 },
 "nbformat": 4,
 "nbformat_minor": 2
}
