{
 "cells": [
  {
   "cell_type": "code",
   "execution_count": 2,
   "metadata": {},
   "outputs": [
    {
     "data": {
      "text/plain": [
       "'Given matrix:'"
      ]
     },
     "metadata": {},
     "output_type": "display_data"
    },
    {
     "data": {
      "text/latex": [
       "$\\displaystyle \\left[\\begin{matrix}1 & 2 & 3 & 1\\\\4 & 8 & 12 & 4\\\\3 & 6 & 9 & 3\\end{matrix}\\right]$"
      ],
      "text/plain": [
       "Matrix([\n",
       "[1, 2,  3, 1],\n",
       "[4, 8, 12, 4],\n",
       "[3, 6,  9, 3]])"
      ]
     },
     "metadata": {},
     "output_type": "display_data"
    },
    {
     "name": "stdout",
     "output_type": "stream",
     "text": [
      "Rank of the linear transformation= 1\n",
      "nullity of the linear transformation= 3\n",
      "Rank-nullity theorem holds.\n"
     ]
    }
   ],
   "source": [
    "from sympy import *\n",
    "A = Matrix([[1, 2, 3,1],[4, 8, 12,4],[3, 6, 9,3]])\n",
    "display(\"Given matrix:\",A)\n",
    "[m,n]=shape(A)\n",
    "r=A.rank()\n",
    "print('Rank of the linear transformation=',r)\n",
    "NullSpace = A.nullspace()\n",
    "nullity=len(NullSpace)\n",
    "print('nullity of the linear transformation=',nullity)\n",
    "if r + nullity == n:\n",
    "    print(\"Rank-nullity theorem holds.\")\n",
    "else:\n",
    "    print(\"Rank-nullity theorem does not hold.\")"
   ]
  },
  {
   "cell_type": "code",
   "execution_count": 3,
   "metadata": {},
   "outputs": [
    {
     "data": {
      "text/plain": [
       "(array([1., 5., 1.]),\n",
       " matrix([[ 1.00000000e+00,  4.47213595e-01,  1.00000000e+00],\n",
       "         [ 0.00000000e+00,  8.94427191e-01, -3.33066907e-16],\n",
       "         [ 0.00000000e+00,  0.00000000e+00,  1.48029737e-16]]))"
      ]
     },
     "metadata": {},
     "output_type": "display_data"
    }
   ],
   "source": [
    "#eigen values and eigen vectors using numpy\n",
    "from numpy import *\n",
    "A=matrix([[1,2,3],[0,5,9],[0,0,1]])\n",
    "X=linalg.eig(A)\n",
    "display(X)"
   ]
  },
  {
   "cell_type": "code",
   "execution_count": 4,
   "metadata": {},
   "outputs": [
    {
     "name": "stdout",
     "output_type": "stream",
     "text": [
      "⎡⎛      ⎡⎡1⎤⎤⎞  ⎛      ⎡⎡1/2⎤⎤⎞⎤\n",
      "⎢⎜      ⎢⎢ ⎥⎥⎟  ⎜      ⎢⎢   ⎥⎥⎟⎥\n",
      "⎢⎜1, 2, ⎢⎢0⎥⎥⎟, ⎜5, 1, ⎢⎢ 1 ⎥⎥⎟⎥\n",
      "⎢⎜      ⎢⎢ ⎥⎥⎟  ⎜      ⎢⎢   ⎥⎥⎟⎥\n",
      "⎣⎝      ⎣⎣0⎦⎦⎠  ⎝      ⎣⎣ 0 ⎦⎦⎠⎦\n"
     ]
    }
   ],
   "source": [
    "#eigen values and their algebraic multiplicity along with their eigen vectors\n",
    "from sympy import *\n",
    "from sympy.abc import *\n",
    "A=Matrix([[1,2,3],[0,5,9],[0,0,1]])\n",
    "X=Matrix.eigenvects(A)\n",
    "pprint(X)"
   ]
  }
 ],
 "metadata": {
  "kernelspec": {
   "display_name": "Python 3",
   "language": "python",
   "name": "python3"
  },
  "language_info": {
   "codemirror_mode": {
    "name": "ipython",
    "version": 3
   },
   "file_extension": ".py",
   "mimetype": "text/x-python",
   "name": "python",
   "nbconvert_exporter": "python",
   "pygments_lexer": "ipython3",
   "version": "3.11.2"
  },
  "orig_nbformat": 4
 },
 "nbformat": 4,
 "nbformat_minor": 2
}
